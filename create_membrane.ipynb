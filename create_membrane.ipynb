{
 "cells": [
  {
   "cell_type": "markdown",
   "metadata": {},
   "source": [
    "- **Python > 3.6 [link](https://www.python.org/downloads/release/python-360/)**\n",
    "- **Gmsh [link](http://gmsh.info/#Download)**\n",
    "- **PyMesh [link](https://github.com/PyMesh/PyMesh)**\n",
    "- **Numpy [link](https://numpy.org/)**\n",
    "- **Scipy [link](https://www.scipy.org/)**\n",
    "- **matplotlib [link](https://matplotlib.org/)**\n",
    "- **pandas [link](https://pandas.pydata.org/)**\n",
    "- **msms (Michael Sanner's Molecular Surface) [link](https://mgl.scripps.edu/people/sanner/html/msms_man.html)**"
   ]
  },
  {
   "cell_type": "markdown",
   "metadata": {},
   "source": [
    "Set `path_to_repo` and `path_to_gmsh` in `util/membrane_preprocess.py`"
   ]
  },
  {
   "cell_type": "code",
   "execution_count": 1,
   "metadata": {},
   "outputs": [],
   "source": [
    "from util.membrane_preprocess import *"
   ]
  },
  {
   "cell_type": "code",
   "execution_count": 3,
   "metadata": {},
   "outputs": [
    {
     "name": "stdout",
     "output_type": "stream",
     "text": [
      "Using matplotlib backend: MacOSX\n"
     ]
    }
   ],
   "source": [
    "%matplotlib\n",
    "home = os.getcwd()\n",
    "membrane_single_surfactants_path = os.path.join(path_to_repo, 'geometry')"
   ]
  },
  {
   "cell_type": "markdown",
   "metadata": {},
   "source": [
    "## Generating a cube problem"
   ]
  },
  {
   "cell_type": "code",
   "execution_count": 4,
   "metadata": {},
   "outputs": [
    {
     "name": "stdout",
     "output_type": "stream",
     "text": [
      "Cube area before adding the surfactants = 1250.00\n",
      "Cube area after adding the surfactants = 3364.20\n",
      "Charged area after adding the surfactants = 1751.57\n"
     ]
    }
   ],
   "source": [
    "# path to the folder were the SLIC/PyGBe data is generated\n",
    "path = os.getcwd() \n",
    "\n",
    "# path to a single surfactant pqr file\n",
    "pqr_file='popc_membrane_namd_tail_neutralized.pqr'\n",
    "\n",
    "# problem parameters \n",
    "p = ProblemParams(charge_to_side_tol=10, pqr_file=pqr_file)\n",
    "\n",
    "# Cube dimensions\n",
    "l_cube = 25 \n",
    "h_cube = l_cube\n",
    "thickness = 50\n",
    "\n",
    "# generate the problem\n",
    "cube = Cube(l_cube,h_cube,thickness)\n",
    "pqr_cube = ChargeDist(cube, p)\n",
    "min_l = 3      # Minimum characterisitic length of the surface mesh\n",
    "max_l = 4      # Maximum characterisitic length of the surface mesh\n",
    "mesh =  SurfaceMesh(min_l, max_l, p)\n",
    "problem = ElectrostaticProblem(p, cube, pqr_cube,mesh)\n",
    "print(\"{0:s} area before adding the surfactants = {1:.2f}\".format(problem.geometry.get_name(),\n",
    "                                                                  cube.get_mesh_area()))\n",
    "test_folder_name = \"test_%s\" % problem.geometry.get_name()\n",
    "pqr_out_name = problem.name\n",
    "\n",
    "# overwrites the folder containing the preprocessing data \n",
    "# files if it exists with the same name\n",
    "if os.path.exists(os.path.join(path, test_folder_name)):\n",
    "\n",
    "    shutil.rmtree(os.path.join(path, test_folder_name)) \n",
    "\n",
    "# create directories where the preprocessing data is being saved\n",
    "os.mkdir(os.path.join(path, test_folder_name))\n",
    "os.chdir(os.path.join(path, test_folder_name))\n",
    "# generate geometry\n",
    "problem.mesh.generate_mesh(cube)\n",
    "# discretize the geometry\n",
    "problem.gen_vf()\n",
    "# generate the charge distribution\n",
    "problem.pqr_to_PyGBe()\n",
    "print(\"{0:s} area after adding the surfactants = {1:.2f}\".format(problem.geometry.get_name(), \n",
    "                                                                  cube.get_mesh_area()))\n",
    "print(\"Charged area after adding the surfactants = {0:.2f}\".format(cube.get_charged_area()))\n",
    "problem.visualize(show_stern=False)\n",
    "plt.show()\n",
    "os.chdir(path)"
   ]
  },
  {
   "cell_type": "markdown",
   "metadata": {},
   "source": [
    "## Generating a cylinder problem"
   ]
  },
  {
   "cell_type": "code",
   "execution_count": 6,
   "metadata": {},
   "outputs": [
    {
     "name": "stdout",
     "output_type": "stream",
     "text": [
      "6283.185307179586\n",
      "6283.185307179586\n",
      "9998.568395582806\n",
      "6568.383531409534\n"
     ]
    }
   ],
   "source": [
    "#CYLINDER\n",
    "\n",
    "r_mean_cyl = 80\n",
    "theta_cyl = pi/2\n",
    "r_out_cyl = r_mean_cyl + thickness/2.0\n",
    "r_in_cyl = r_mean_cyl - thickness/2.0\n",
    "h_cyl = h_cube\n",
    "cyl = Cylinder(r_out_cyl,r_in_cyl,h_cyl,theta_cyl)\n",
    "print(cyl.get_mesh_area())\n",
    "print(cyl.get_charged_area())\n",
    "pq_cyl = ChargeDist(cyl, p)\n",
    "mesh =  SurfaceMesh(min_l, max_l,p)\n",
    "problem = ElectrostaticProblem(p,cyl,pq_cyl,mesh)\n",
    "test_folder_name = \"test_%s_compare\" % problem.geometry.get_name()\n",
    "pqr_out_name = problem.name\n",
    "\n",
    "if os.path.exists(os.path.join(path,test_folder_name)):\n",
    "    \n",
    "    shutil.rmtree(os.path.join(path,test_folder_name)) \n",
    "\n",
    "os.mkdir(os.path.join(path, test_folder_name))\n",
    "os.chdir(os.path.join(path, test_folder_name))\n",
    "problem.mesh.generate_mesh(cyl)\n",
    "problem.gen_vf()\n",
    "problem.pqr_to_PyGBe()\n",
    "problem.visualize(show_stern = False)\n",
    "print(cyl.get_mesh_area())\n",
    "print(cyl.get_charged_area())\n",
    "os.chdir(path)"
   ]
  }
 ],
 "metadata": {
  "kernelspec": {
   "display_name": "Python 3",
   "language": "python",
   "name": "python3"
  },
  "language_info": {
   "codemirror_mode": {
    "name": "ipython",
    "version": 3
   },
   "file_extension": ".py",
   "mimetype": "text/x-python",
   "name": "python",
   "nbconvert_exporter": "python",
   "pygments_lexer": "ipython3",
   "version": "3.6.10"
  }
 },
 "nbformat": 4,
 "nbformat_minor": 4
}
