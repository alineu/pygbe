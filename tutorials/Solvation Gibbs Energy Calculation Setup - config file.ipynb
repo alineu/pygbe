{
 "cells": [
  {
   "cell_type": "markdown",
   "metadata": {},
   "source": [
    "<strong>config</strong> file specifies the physical properties of the system. <strong>config</strong> file consists of two parts, separated with dashes, as seen below:"
   ]
  },
  {
   "cell_type": "markdown",
   "metadata": {},
   "source": [
    "<pre>\n",
    "FILE    path_to_mol_stern  stern_layer\n",
    "FILE    path_to_mol_diel   dielectric_interface\n",
    "--------------------------------\n",
    "PARAM   LorY E?  Dielec  kappa  charges?  coulomb?    charge_file       Nparent  parent  Nchild  children\n",
    "FIELD   1    0   78.36   1e-12  0         0           NA                0        NA      1       1\n",
    "FIELD   1    0   78.36   1e-12  0         0           NA                1        1       1       0\n",
    "FIELD   1    1   1       1e-12  1         1           path_to_mol1.pqr  1        0       0       NA</pre>"
   ]
  },
  {
   "cell_type": "markdown",
   "metadata": {},
   "source": [
    "<iframe src=\"www.github.com/alineu/pygbe/tree/asymmetric/tutorials/img/bem-stern.pdf\" style=\"width:600px; height:500px;\" frameborder=\"0\"></iframe>"
   ]
  },
  {
   "cell_type": "code",
   "execution_count": null,
   "metadata": {},
   "outputs": [],
   "source": []
  }
 ],
 "metadata": {
  "kernelspec": {
   "display_name": "Python 3",
   "language": "python",
   "name": "python3"
  },
  "language_info": {
   "codemirror_mode": {
    "name": "ipython",
    "version": 3
   },
   "file_extension": ".py",
   "mimetype": "text/x-python",
   "name": "python",
   "nbconvert_exporter": "python",
   "pygments_lexer": "ipython3",
   "version": "3.9.1"
  }
 },
 "nbformat": 4,
 "nbformat_minor": 4
}
