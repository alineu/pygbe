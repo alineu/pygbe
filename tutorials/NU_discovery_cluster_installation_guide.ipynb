{
 "cells": [
  {
   "cell_type": "markdown",
   "metadata": {},
   "source": [
    "#### Note: The following has been tested successfully on NU Discovery cluster\n",
    "\n",
    "### 1. Connect to the Discovery cluster\n",
    "\n",
    "```bash\n",
    "ssh -X username@login-00.discovery.neu.edu\n",
    "```"
   ]
  },
  {
   "cell_type": "markdown",
   "metadata": {},
   "source": [
    "### 2. Install/load Anaconda\n",
    "```bash\n",
    "$ module load anaconda3/3.7\n",
    "$ echo \". /shared/centos7/anaconda3/3.7/etc/profile.d/conda.sh\" >> ~/.bashrc\n",
    "$ source ~/.bashrc\n",
    "```"
   ]
  },
  {
   "cell_type": "markdown",
   "metadata": {},
   "source": [
    "### 3. Reserve a gpu/multigpu compute node\n",
    "\n",
    "```bash\n",
    "$ srun -p gpu --nodes=1 --pty --gres=gpu:1 --time=04:00:00 --export=ALL /bin/bash\n",
    "```"
   ]
  },
  {
   "cell_type": "markdown",
   "metadata": {},
   "source": [
    "### 4. Activate the environment\n",
    "\n",
    "```bash\n",
    "$ conda activate\n",
    "```\n",
    "If everything goes well, `(base)` will show up next to your `username@computenode` in shell, e.g.\n",
    "\n",
    "```bash\n",
    "(base)[username@c1234]$\n",
    "```"
   ]
  },
  {
   "cell_type": "markdown",
   "metadata": {},
   "source": [
    "### 5. Load the required modules\n",
    "\n",
    "```bash\n",
    "$ module load boost/1.63.0\n",
    "$ module load cuda/10.2\n",
    "```"
   ]
  },
  {
   "cell_type": "markdown",
   "metadata": {},
   "source": [
    "### 6. Create a conda environemnt for PyGBe (may take a while)\n",
    "\n",
    "#### If you have attempted to install PyGBe using conda previously do this:\n",
    "You need to delete the old environment to avoid possible version collisions. sure , First, delete the previously created `pygbe-env` environment from the old installation (You might have named it differently!). If that's the case, you can see your conda environments using\n",
    "\n",
    "```bash\n",
    "$ ls ~/.conda/envs\n",
    "```\n",
    "To remove the old environment you can\n",
    "```bash\n",
    "$ conda remove -n pygbe-env --all\n",
    "```\n",
    "or delete the env folder\n",
    "```bash\n",
    "$ rm -rf ~/.conda/envs/pygbe-env\n",
    "$ conda create -n pygbe-env python=3.7 -y\n",
    "```\n",
    "#### If this is the first time you are installing PyGBe:\n",
    "```bash\n",
    "$ conda create -n pygbe-env python=3.7 -y\n",
    "```"
   ]
  },
  {
   "cell_type": "markdown",
   "metadata": {},
   "source": [
    "### 7. Activate the PyGBe environment\n",
    "```bash\n",
    "$ conda activate pygbe-env\n",
    "```"
   ]
  },
  {
   "cell_type": "markdown",
   "metadata": {},
   "source": [
    "### 8. Clone the PyGBe repository\n",
    "If you have a preffered directory to maintain your repositories go to that directory and then\n",
    "```bash\n",
    "$ git clone https://github.com/alineu/pygbe3.git\n",
    "$ cd pygbe\n",
    "```\n",
    "or\n",
    "```bash\n",
    "$ git clone git@github.com:alineu/pygbe3.git\n",
    "$ cd pygbe\n",
    "```"
   ]
  },
  {
   "cell_type": "markdown",
   "metadata": {},
   "source": [
    "### 9. checkout the asymmetric_Py3 branch\n",
    "\n",
    "```bash\n",
    "$ git checkout asymmetric_Py3\n",
    "```\n",
    "**Note**: This is a critical step so make sure you don't miss it!"
   ]
  },
  {
   "cell_type": "markdown",
   "metadata": {},
   "source": [
    "### 10. Install the remaining dependencies\n",
    "\n",
    "#### 10.1 `numpy` and `scipy`\n",
    "\n",
    "```bash\n",
    "$ conda install -y numpy scipy\n",
    "```\n",
    "\n",
    "#### 10.2.`SWIG`\n",
    "install `SWIG` using\n",
    "```bash\n",
    "$ mkdir src\n",
    "$ cd src\n",
    "$ wget https://versaweb.dl.sourceforge.net/project/swig/swig/swig-3.0.12/swig-3.0.12.tar.gz\n",
    "$ tar -xvzf swig-3.0.12.tar.gz\n",
    "$ cd swig-3.0.12\n",
    "$ ./configure --prefix=$PWD\n",
    "$ make\n",
    "$ make install\n",
    "```\n",
    "\n",
    "#### 10.3  `pycuda`\n",
    "before installing pycuda, make sure there is absolutely no trace of previous installations left on your machine. So we delete them from the potential locations.\n",
    "```bash\n",
    "$ rm -rf ~/.conda/pkgs/pycuda*\n",
    "$ rm -rf ~/.local/lib/python*/site-packages/pycuda*\n",
    "```\n",
    "Then install `pycuda` using\n",
    "```bash\n",
    "$ pip install -Iv pycuda\n",
    "```"
   ]
  },
  {
   "cell_type": "markdown",
   "metadata": {},
   "source": [
    "### 11. Install PyGBe and test the installation\n",
    "\n",
    "#### 11.1 Install\n",
    "```bash\n",
    "$ cd ../../bem_pycuda/\n",
    "$ make all\n",
    "```\n",
    "#### 11.2 Test\n",
    "```bash\n",
    "$ python main_asymmetric.py input_files/his.param input_files/his_stern.config --asymmetric --chargeForm\n",
    "```\n",
    "If the library is installed properly, you should see something like\n",
    "\n",
    "```bash\n",
    "Run started on:\n",
    "\tDate: year/m/d\n",
    "\tTime: hr:min:sec\n",
    "\n",
    "Reading pqr for region 2 from ../geometry/his/his_prot.pqr\n",
    "\n",
    "Reading surface 0 from file ../geometry/his/his_d01\n",
    "Time load mesh: 0.036644\n",
    "Removed areas=0: 0\n",
    "\n",
    "Reading surface 1 from file ../geometry/his/his_d01_stern\n",
    "Time load mesh: 0.041806\n",
    "Removed areas=0: 81\n",
    "\n",
    "Total elements : 1555\n",
    "Total equations: 3110\n",
    "\n",
    "...\n",
    "...\n",
    "...\n",
    "\n",
    "Totals:\n",
    "Esolv = -19.045255 kcal/mol\n",
    "Esurf = 0.000000 kcal/mol\n",
    "Ecoul = -119.087367 kcal/mol\n",
    "\n",
    "Time = 15.916039 s\n",
    "```"
   ]
  },
  {
   "cell_type": "markdown",
   "metadata": {},
   "source": [
    "### 12. Deactivate the environments whenever you're done:\n",
    "\n",
    "```bash\n",
    "$ conda deactivate\n",
    "$ conda deactivate\n",
    "```\n",
    "\n",
    "twice!"
   ]
  },
  {
   "cell_type": "markdown",
   "metadata": {},
   "source": [
    "### Note\n",
    "Next time, when you connect to a GPU compute node you only need to run the following to enable and use `PyGBe` library:\n",
    "\n",
    "#### Activate the Anaconda Module\n",
    "```bash\n",
    "$ module load anaconda3/3.7\n",
    "$ conda activate\n",
    "```\n",
    "\n",
    "#### Activate the PyGBe Environment\n",
    "\n",
    "```bash\n",
    "$ conda activate pygbe-env\n",
    "```\n",
    "\n",
    "#### Load the Rest of the Modules\n",
    "```bash\n",
    "$ module load boost/1.63.0\n",
    "$ module load cuda/10.2\n",
    "```\n",
    "The library should be ready to use!\n",
    "\n",
    "#### Important\n",
    "You might have to add the location of `pycuda` library to your `PATH` if `Python` fails to import the library. You can do this by adding\n",
    "```bash\n",
    "export PATH=$PATH:path/to/pycuda\n",
    "```\n",
    "to your `~/.bashrc` file (and then source it!).\n",
    "\n",
    "`path_to_pycuda` is the location where the `pycuda` library is installed, e.g. `$HOME/.conda/envs/pygbe-env/lib/python3.7/site-packages/pycuda`\n",
    "\n",
    "If you don't know the location of `pycuda` library you can find it using\n",
    "```bash\n",
    "find ~ -type d -name 'pycuda*'\n",
    "```"
   ]
  }
 ],
 "metadata": {
  "kernelspec": {
   "display_name": "Python 3",
   "language": "python",
   "name": "python3"
  },
  "language_info": {
   "codemirror_mode": {
    "name": "ipython",
    "version": 3
   },
   "file_extension": ".py",
   "mimetype": "text/x-python",
   "name": "python",
   "nbconvert_exporter": "python",
   "pygments_lexer": "ipython3",
   "version": "3.6.10"
  }
 },
 "nbformat": 4,
 "nbformat_minor": 4
}
