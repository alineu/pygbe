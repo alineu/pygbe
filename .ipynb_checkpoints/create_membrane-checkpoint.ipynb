{
 "cells": [
  {
   "cell_type": "code",
   "execution_count": 1,
   "metadata": {},
   "outputs": [],
   "source": [
    "from util.membrane_preprocess import *"
   ]
  },
  {
   "cell_type": "code",
   "execution_count": 2,
   "metadata": {},
   "outputs": [
    {
     "name": "stdout",
     "output_type": "stream",
     "text": [
      "Using matplotlib backend: MacOSX\n"
     ]
    }
   ],
   "source": [
    "%matplotlib\n",
    "import os\n",
    "import numpy as np\n",
    "from numpy import pi as pi\n",
    "import pandas as pd\n",
    "import sys\n",
    "import subprocess\n",
    "import math\n",
    "import pylab as plt\n",
    "home = os.getcwd()\n",
    "repo_path = \"/Users/Ali/repos/aliPyGBe\"\n",
    "membrane_single_surfactants_path = os.path.join(repo_path, 'geometry')"
   ]
  },
  {
   "cell_type": "markdown",
   "metadata": {},
   "source": [
    "## Generating a cube"
   ]
  },
  {
   "cell_type": "code",
   "execution_count": 3,
   "metadata": {},
   "outputs": [
    {
     "name": "stdout",
     "output_type": "stream",
     "text": [
      "Cube area before adding the surfactants = 5000.00\n",
      "Cube area after adding the surfactants = 7875.12\n",
      "Charged area after adding the surfactants = 5254.71\n"
     ]
    }
   ],
   "source": [
    "# path to the folder were the SLIC/PyGBe data is generated\n",
    "path = os.getcwd() \n",
    "\n",
    "# path to a single surfactant pqr file\n",
    "pqr_file='/Users/Ali/repos/ali_SLIC-Membrane/popc_membrane_namd_tail_neutralized.pqr'\n",
    "\n",
    "# problem parameters \n",
    "p = ProblemParams(charge_to_side_tol=10, pqr_file=pqr_file)\n",
    "\n",
    "# Cube dimensions\n",
    "l_cube = 50 \n",
    "h_cube = l_cube\n",
    "thickness = 50\n",
    "\n",
    "# generate the problem\n",
    "cube = Cube(l_cube,h_cube,thickness)\n",
    "pqr_cube = ChargeDist(cube, p)\n",
    "min_l = 3      # Minimum characterisitic length of the surface mesh\n",
    "max_l = 4      # Maximum characterisitic length of the surface mesh\n",
    "mesh =  SurfaceMesh(min_l, max_l, p)\n",
    "problem = ElectrostaticProblem(p, cube, pqr_cube,mesh)\n",
    "print(\"{0:s} area before adding the surfactants = {1:.2f}\".format(problem.geometry.get_name(),\n",
    "                                                                  cube.get_mesh_area()))\n",
    "test_folder_name = \"test_%s\" % problem.geometry.get_name()\n",
    "pqr_out_name = problem.name\n",
    "\n",
    "# overwrites the folder containing the preprocessing data \n",
    "# files if it exists with the same name\n",
    "if os.path.exists(os.path.join(path, test_folder_name)):\n",
    "\n",
    "    shutil.rmtree(os.path.join(path, test_folder_name)) \n",
    "\n",
    "# create directories where the preprocessing data is being saved\n",
    "os.mkdir(os.path.join(path, test_folder_name))\n",
    "os.chdir(os.path.join(path, test_folder_name))\n",
    "# generate geometry\n",
    "problem.mesh.generate_mesh(cube)\n",
    "# discretize the geometry\n",
    "problem.gen_vf()\n",
    "# generate the charge distribution\n",
    "problem.pqr_to_PyGBe()\n",
    "print(\"{0:s} area after adding the surfactants = {1:.2f}\".format(problem.geometry.get_name(), \n",
    "                                                                  cube.get_mesh_area()))\n",
    "print(\"Charged area after adding the surfactants = {0:.2f}\".format(cube.get_charged_area()))\n",
    "problem.visualize(show_stern=False)\n",
    "plt.show()\n",
    "os.chdir(path)"
   ]
  }
 ],
 "metadata": {
  "kernelspec": {
   "display_name": "Python 3",
   "language": "python",
   "name": "python3"
  },
  "language_info": {
   "codemirror_mode": {
    "name": "ipython",
    "version": 3
   },
   "file_extension": ".py",
   "mimetype": "text/x-python",
   "name": "python",
   "nbconvert_exporter": "python",
   "pygments_lexer": "ipython3",
   "version": "3.6.10"
  }
 },
 "nbformat": 4,
 "nbformat_minor": 4
}
